{
 "cells": [
  {
   "cell_type": "code",
   "execution_count": 1,
   "id": "b707be66",
   "metadata": {},
   "outputs": [],
   "source": [
    "import pandas as pd\n",
    "import numpy as np\n",
    "%matplotlib inline\n",
    "from matplotlib import pyplot as plt"
   ]
  },
  {
   "cell_type": "code",
   "execution_count": 2,
   "id": "c7742d2c",
   "metadata": {},
   "outputs": [],
   "source": [
    "table = pd.read_csv('StudentMarkSheet.csv')"
   ]
  },
  {
   "cell_type": "code",
   "execution_count": 3,
   "id": "2a61c6f9",
   "metadata": {},
   "outputs": [
    {
     "data": {
      "text/plain": [
       "47.89473684210526"
      ]
     },
     "execution_count": 3,
     "metadata": {},
     "output_type": "execute_result"
    }
   ],
   "source": [
    "bm=table.loc[(table['Exam name']=='Biology')]\n",
    "bm\n",
    "ba=bm['Marks'].mean()\n",
    "ba"
   ]
  },
  {
   "cell_type": "code",
   "execution_count": 4,
   "id": "6b4c7e41",
   "metadata": {},
   "outputs": [
    {
     "data": {
      "text/plain": [
       "50.57692307692308"
      ]
     },
     "execution_count": 4,
     "metadata": {},
     "output_type": "execute_result"
    }
   ],
   "source": [
    "cm=table.loc[(table['Exam name']=='Chemistry')]\n",
    "cm\n",
    "ca=cm['Marks'].mean()\n",
    "ca"
   ]
  },
  {
   "cell_type": "code",
   "execution_count": 5,
   "id": "46223905",
   "metadata": {},
   "outputs": [
    {
     "data": {
      "text/plain": [
       "48.97222222222222"
      ]
     },
     "execution_count": 5,
     "metadata": {},
     "output_type": "execute_result"
    }
   ],
   "source": [
    "mm=table.loc[(table['Exam name']=='Mathematics')]\n",
    "mm\n",
    "ma=mm['Marks'].mean()\n",
    "ma"
   ]
  },
  {
   "cell_type": "code",
   "execution_count": 6,
   "id": "b15bbb40",
   "metadata": {},
   "outputs": [
    {
     "data": {
      "text/plain": [
       "56.026315789473685"
      ]
     },
     "execution_count": 6,
     "metadata": {},
     "output_type": "execute_result"
    }
   ],
   "source": [
    "sm=table.loc[(table['Exam name']=='Sociology')]\n",
    "sm\n",
    "sa=sm['Marks'].mean()\n",
    "sa"
   ]
  },
  {
   "cell_type": "code",
   "execution_count": 7,
   "id": "3f73a402",
   "metadata": {},
   "outputs": [
    {
     "data": {
      "text/plain": [
       "51.76190476190476"
      ]
     },
     "execution_count": 7,
     "metadata": {},
     "output_type": "execute_result"
    }
   ],
   "source": [
    "pm=table.loc[(table['Exam name']=='Physics')]\n",
    "pm\n",
    "pa=pm['Marks'].mean()\n",
    "pa"
   ]
  },
  {
   "cell_type": "code",
   "execution_count": 8,
   "id": "5c8ee5ac",
   "metadata": {},
   "outputs": [],
   "source": [
    "avg=np.array([ba,sa,ca,ma,pa])\n",
    "category=[\"Biology\",\"sociology\",\"chemistry\",\"maths\",\"physics\"]"
   ]
  },
  {
   "cell_type": "code",
   "execution_count": 9,
   "id": "2ea74594",
   "metadata": {},
   "outputs": [
    {
     "data": {
      "image/png": "[encoded data removed]",
      "text/plain": [
       "<Figure size 640x480 with 1 Axes>"
      ]
     },
     "metadata": {},
     "output_type": "display_data"
    }
   ],
   "source": [
    "plt.bar(range(0,5),avg)\n",
    "plt.xticks(range(0,5),category)\n",
    "plt.ylabel(\"Marks\")\n",
    "plt.xlabel(\"Subjects\")\n",
    "plt.title(\"average marks per subject\")\n",
    "plt.show()"
   ]
  },
  {
   "cell_type": "code",
   "execution_count": null,
   "id": "32b6010e",
   "metadata": {},
   "outputs": [],
   "source": []
  }
 ],
 "metadata": {
  "kernelspec": {
   "display_name": "Python 3 (ipykernel)",
   "language": "python",
   "name": "python3"
  },
  "language_info": {
   "codemirror_mode": {
    "name": "ipython",
    "version": 3
   },
   "file_extension": ".py",
   "mimetype": "text/x-python",
   "name": "python",
   "nbconvert_exporter": "python",
   "pygments_lexer": "ipython3",
   "version": "3.10.7"
  }
 },
 "nbformat": 4,
 "nbformat_minor": 5
}
